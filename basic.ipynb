{
 "cells": [
  {
   "cell_type": "markdown",
   "metadata": {},
   "source": [
    "# Python practice"
   ]
  },
  {
   "cell_type": "markdown",
   "metadata": {},
   "source": [
    "## Print"
   ]
  },
  {
   "cell_type": "code",
   "execution_count": 1,
   "metadata": {},
   "outputs": [
    {
     "name": "stdout",
     "output_type": "stream",
     "text": [
      "Hello World\n"
     ]
    }
   ],
   "source": [
    "print(\"Hello World\")"
   ]
  },
  {
   "cell_type": "markdown",
   "metadata": {},
   "source": [
    "### Exercise 1\n",
    "> Print out your name!"
   ]
  },
  {
   "cell_type": "code",
   "execution_count": 2,
   "metadata": {},
   "outputs": [],
   "source": [
    "### Write your code in this block"
   ]
  },
  {
   "cell_type": "markdown",
   "metadata": {},
   "source": [
    "## Comment"
   ]
  },
  {
   "cell_type": "code",
   "execution_count": 3,
   "metadata": {},
   "outputs": [
    {
     "name": "stdout",
     "output_type": "stream",
     "text": [
      "Justin\n"
     ]
    }
   ],
   "source": [
    "# print out my name\n",
    "print(\"Justin\")"
   ]
  },
  {
   "cell_type": "code",
   "execution_count": 4,
   "metadata": {},
   "outputs": [
    {
     "name": "stdout",
     "output_type": "stream",
     "text": [
      "Hello World\n"
     ]
    }
   ],
   "source": [
    "'''\n",
    "Print\n",
    "Hello\n",
    "World\n",
    "'''\n",
    "print(\"Hello World\")"
   ]
  },
  {
   "cell_type": "markdown",
   "metadata": {},
   "source": [
    "## Types"
   ]
  },
  {
   "cell_type": "code",
   "execution_count": 5,
   "metadata": {},
   "outputs": [
    {
     "name": "stdout",
     "output_type": "stream",
     "text": [
      "<class 'int'>\n",
      "<class 'float'>\n"
     ]
    }
   ],
   "source": [
    "# Output the type of the number 7\n",
    "print(type(7))\n",
    "\n",
    "# Output the type of the number 7.5\n",
    "print(type(7.5))"
   ]
  },
  {
   "cell_type": "code",
   "execution_count": 6,
   "metadata": {},
   "outputs": [
    {
     "name": "stdout",
     "output_type": "stream",
     "text": [
      "<class 'str'>\n",
      "<class 'str'>\n"
     ]
    }
   ],
   "source": [
    "# Output the type of the string\n",
    "print(type(\"Hello\"))\n",
    "print(type('Hello'))"
   ]
  },
  {
   "cell_type": "code",
   "execution_count": 7,
   "metadata": {},
   "outputs": [
    {
     "name": "stdout",
     "output_type": "stream",
     "text": [
      "<class 'bool'>\n",
      "<class 'bool'>\n"
     ]
    }
   ],
   "source": [
    "# Output the type of True and False\n",
    "print(type(True))\n",
    "print(type(False))"
   ]
  },
  {
   "cell_type": "markdown",
   "metadata": {},
   "source": [
    "## Variables"
   ]
  },
  {
   "cell_type": "code",
   "execution_count": 8,
   "metadata": {},
   "outputs": [],
   "source": [
    "# Assign number 8 to variable named smile\n",
    "smile = 8\n",
    "\n",
    "# Assign string \"Justin\" to variable\n",
    "#  named name\n",
    "name = \"Justin\""
   ]
  },
  {
   "cell_type": "code",
   "execution_count": 9,
   "metadata": {},
   "outputs": [
    {
     "name": "stdout",
     "output_type": "stream",
     "text": [
      "8\n",
      "Justin\n"
     ]
    }
   ],
   "source": [
    "# Print out the value of the variables\n",
    "print(smile)\n",
    "print(name)"
   ]
  },
  {
   "cell_type": "markdown",
   "metadata": {},
   "source": [
    "### Exercise 2\n",
    "> Assign \"Here you go\" to the variable named `phrase` and print out its type"
   ]
  },
  {
   "cell_type": "code",
   "execution_count": 10,
   "metadata": {},
   "outputs": [],
   "source": [
    "### Write your code in this block"
   ]
  },
  {
   "cell_type": "code",
   "execution_count": 11,
   "metadata": {},
   "outputs": [
    {
     "name": "stdout",
     "output_type": "stream",
     "text": [
      "<class 'str'>\n"
     ]
    }
   ],
   "source": [
    "################\n",
    "#   Answer     #\n",
    "################\n",
    "\n",
    "\n",
    "# Assign value to phrase\n",
    "phrase = \"Here you go\"\n",
    "\n",
    "# Print out its type\n",
    "print(type(phrase))"
   ]
  },
  {
   "cell_type": "markdown",
   "metadata": {},
   "source": [
    "## Operators"
   ]
  },
  {
   "cell_type": "markdown",
   "metadata": {},
   "source": [
    "### Arithmetic"
   ]
  },
  {
   "cell_type": "code",
   "execution_count": 12,
   "metadata": {},
   "outputs": [
    {
     "name": "stdout",
     "output_type": "stream",
     "text": [
      "5\n",
      "-0.6000000000000001\n",
      "10.0\n"
     ]
    }
   ],
   "source": [
    "# Addition\n",
    "print(2 + 3)\n",
    "\n",
    "# Subtraction\n",
    "print(2.5 - 3.1)\n",
    "\n",
    "# Multiplication\n",
    "print(2.5 * 4)"
   ]
  },
  {
   "cell_type": "markdown",
   "metadata": {},
   "source": [
    "### Comparison"
   ]
  },
  {
   "cell_type": "code",
   "execution_count": 13,
   "metadata": {},
   "outputs": [
    {
     "name": "stdout",
     "output_type": "stream",
     "text": [
      "False\n",
      "False\n",
      "True\n"
     ]
    }
   ],
   "source": [
    "# Equal\n",
    "print(2 == 3)\n",
    "\n",
    "# Greater than\n",
    "print(6 > 7)\n",
    "\n",
    "# Greater than or equal to\n",
    "print(5 >= 3)"
   ]
  },
  {
   "cell_type": "markdown",
   "metadata": {},
   "source": [
    "### Logical operators"
   ]
  },
  {
   "cell_type": "code",
   "execution_count": 14,
   "metadata": {},
   "outputs": [
    {
     "name": "stdout",
     "output_type": "stream",
     "text": [
      "True\n",
      "True\n",
      "True\n"
     ]
    }
   ],
   "source": [
    "# True and True\n",
    "print(True and True)\n",
    "\n",
    "# True or False\n",
    "print(True or False)\n",
    "\n",
    "# Not False\n",
    "print(not False)"
   ]
  },
  {
   "cell_type": "markdown",
   "metadata": {},
   "source": [
    "### Exercise 3\n",
    "> Please fill in the value of x, y and c. Replace the \"None\" with your answer"
   ]
  },
  {
   "cell_type": "code",
   "execution_count": 15,
   "metadata": {},
   "outputs": [],
   "source": [
    "# x = (True and False) or False\n",
    "x = None # True of false\n",
    "\n",
    "# y = (2 + 3) ** 2\n",
    "y = None # Numeric value\n",
    "\n",
    "# c = (a > b)\n",
    "a = 9\n",
    "b = 6\n",
    "c = None # True or False"
   ]
  },
  {
   "cell_type": "code",
   "execution_count": 16,
   "metadata": {},
   "outputs": [
    {
     "name": "stdout",
     "output_type": "stream",
     "text": [
      "x = False\n",
      "y = 25\n",
      "c = True\n"
     ]
    }
   ],
   "source": [
    "################\n",
    "#   Answer     #\n",
    "################\n",
    "\n",
    "# Assign the value as in the last block\n",
    "a = 9\n",
    "b = 6\n",
    "\n",
    "# Print out the operation\n",
    "print(\"x = {}\".format((True and False) or False))\n",
    "print(\"y = {}\".format((2 + 3) ** 2))\n",
    "print(\"c = {}\".format((a > b)))"
   ]
  },
  {
   "cell_type": "markdown",
   "metadata": {},
   "source": [
    "## Container"
   ]
  },
  {
   "cell_type": "markdown",
   "metadata": {},
   "source": [
    "### List"
   ]
  },
  {
   "cell_type": "code",
   "execution_count": 17,
   "metadata": {},
   "outputs": [
    {
     "name": "stdout",
     "output_type": "stream",
     "text": [
      "[]\n",
      "[1, 2, 3]\n",
      "[]\n"
     ]
    }
   ],
   "source": [
    "# Assign an empty list to x\n",
    "x = []\n",
    "print(x)\n",
    "\n",
    "# Assign an initial list to y\n",
    "y = [1, 2, 3]\n",
    "print(y)\n",
    "\n",
    "# alternative to assigin an empty list\n",
    "z = list()\n",
    "print(z)"
   ]
  },
  {
   "cell_type": "code",
   "execution_count": 18,
   "metadata": {},
   "outputs": [
    {
     "name": "stdout",
     "output_type": "stream",
     "text": [
      "1\n",
      "6\n"
     ]
    }
   ],
   "source": [
    "# Assign a list to x\n",
    "x = [1, 2, 3, 4, 5, 6]\n",
    "\n",
    "# Get value 1\n",
    "print(x[0])\n",
    "\n",
    "# Get value 5\n",
    "print(x[5])\n",
    "\n",
    "# Error\n",
    "# print(x[5], x[-6])"
   ]
  },
  {
   "cell_type": "code",
   "execution_count": 19,
   "metadata": {},
   "outputs": [
    {
     "name": "stdout",
     "output_type": "stream",
     "text": [
      "['My', 'Name', 'is']\n",
      "a\n",
      "['My', 'Name', 'is']\n",
      "['My', 'Name', 'is', 'Justin']\n",
      "['Name', 'is', 'Justin']\n"
     ]
    }
   ],
   "source": [
    "# Intial the list\n",
    "x = [\"My\", \"Name\", \"is\", \"a\"]\n",
    "\n",
    "# Get the value from index 0 to 2\n",
    "print(x[0:2+1])\n",
    "\n",
    "# Remove \"a\", the last element in list\n",
    "y = x.pop() # Return \"a\" back to y\n",
    "print(y)\n",
    "print(x)\n",
    "\n",
    "# Append \"Justin\" to the list\n",
    "x.append(\"Justin\")\n",
    "print(x)\n",
    "\n",
    "# Remove \"My\" in x\n",
    "x.remove(\"My\")\n",
    "print(x)"
   ]
  },
  {
   "cell_type": "markdown",
   "metadata": {},
   "source": [
    "### Tuple"
   ]
  },
  {
   "cell_type": "code",
   "execution_count": 20,
   "metadata": {},
   "outputs": [
    {
     "name": "stdout",
     "output_type": "stream",
     "text": [
      "<class 'tuple'>\n"
     ]
    }
   ],
   "source": [
    "# Define tuple objects\n",
    "#  and print out the type\n",
    "x = (1, 2, 3)\n",
    "print(type(x))"
   ]
  },
  {
   "cell_type": "code",
   "execution_count": 21,
   "metadata": {},
   "outputs": [
    {
     "name": "stdout",
     "output_type": "stream",
     "text": [
      "<class 'tuple'> <class 'int'>\n"
     ]
    }
   ],
   "source": [
    "# To define a tuple with single element\n",
    "#  add \",\" after the element\n",
    "x = (1,) # Tuple\n",
    "y = (1) # Integer\n",
    "print(type(x), type(y))"
   ]
  },
  {
   "cell_type": "code",
   "execution_count": 22,
   "metadata": {},
   "outputs": [
    {
     "ename": "TypeError",
     "evalue": "'tuple' object does not support item assignment",
     "output_type": "error",
     "traceback": [
      "\u001b[0;31m---------------------------------------------------------------------------\u001b[0m",
      "\u001b[0;31mTypeError\u001b[0m                                 Traceback (most recent call last)",
      "\u001b[0;32m<ipython-input-22-dad133404ae6>\u001b[0m in \u001b[0;36m<module>\u001b[0;34m\u001b[0m\n\u001b[1;32m      3\u001b[0m \u001b[0;34m\u001b[0m\u001b[0m\n\u001b[1;32m      4\u001b[0m \u001b[0;31m# Error\u001b[0m\u001b[0;34m\u001b[0m\u001b[0;34m\u001b[0m\u001b[0;34m\u001b[0m\u001b[0m\n\u001b[0;32m----> 5\u001b[0;31m \u001b[0mx\u001b[0m\u001b[0;34m[\u001b[0m\u001b[0;36m0\u001b[0m\u001b[0;34m]\u001b[0m \u001b[0;34m=\u001b[0m \u001b[0;36m3\u001b[0m\u001b[0;34m\u001b[0m\u001b[0;34m\u001b[0m\u001b[0m\n\u001b[0m\u001b[1;32m      6\u001b[0m \u001b[0mx\u001b[0m\u001b[0;34m.\u001b[0m\u001b[0mappend\u001b[0m\u001b[0;34m(\u001b[0m\u001b[0;36m2\u001b[0m\u001b[0;34m)\u001b[0m\u001b[0;34m\u001b[0m\u001b[0;34m\u001b[0m\u001b[0m\n",
      "\u001b[0;31mTypeError\u001b[0m: 'tuple' object does not support item assignment"
     ]
    }
   ],
   "source": [
    "# Define typle objects\n",
    "x = (1, 2, 3)\n",
    "\n",
    "# Error\n",
    "x[0] = 3\n",
    "x.append(2)"
   ]
  },
  {
   "cell_type": "markdown",
   "metadata": {},
   "source": [
    "### Dictionary"
   ]
  },
  {
   "cell_type": "code",
   "execution_count": null,
   "metadata": {},
   "outputs": [],
   "source": [
    "# Declare dict and print the type\n",
    "x = {\n",
    "    \"A\": \"Hello\",\n",
    "    \"B\": \"I\", \n",
    "    \"C\": \"Love\"\n",
    "    }\n",
    "print(type(x))"
   ]
  },
  {
   "cell_type": "code",
   "execution_count": null,
   "metadata": {},
   "outputs": [],
   "source": [
    "# Declare list\n",
    "x = {\n",
    "    \"A\": \"Hello\",\n",
    "    \"B\": \"I\", \n",
    "    \"C\": \"Love\"\n",
    "    }\n",
    "# Print out the value\n",
    "#  using key\n",
    "print(x[\"A\"], x[\"B\"])"
   ]
  },
  {
   "cell_type": "code",
   "execution_count": null,
   "metadata": {},
   "outputs": [],
   "source": [
    "# Declare list\n",
    "x = {\n",
    "    \"A\": \"Hello\",\n",
    "    \"B\": \"I\", \n",
    "    \"C\": \"Love\"\n",
    "    }\n",
    "\n",
    "# Get method with exist \n",
    "#  and not exist name\n",
    "print(x.get(\"A\", 0))\n",
    "print(x.get(\"D\", 0))\n",
    "\n",
    "# Delete \"C\"\n",
    "del x[\"C\"]\n",
    "print(x)\n",
    "\n",
    "# Clear x\n",
    "x.clear()\n",
    "print(x)\n",
    "\n",
    "# Set default\n",
    "print(x.setdefault(\"A\", 1))\n",
    "print(x)"
   ]
  },
  {
   "cell_type": "markdown",
   "metadata": {},
   "source": [
    "### Set"
   ]
  },
  {
   "cell_type": "code",
   "execution_count": null,
   "metadata": {},
   "outputs": [],
   "source": [
    "# Declare a set\n",
    "x = {1, 1, 2, 2, 3, 4, 5}\n",
    "print(type(x), x)"
   ]
  },
  {
   "cell_type": "markdown",
   "metadata": {},
   "source": [
    "### Length of containers"
   ]
  },
  {
   "cell_type": "code",
   "execution_count": null,
   "metadata": {},
   "outputs": [],
   "source": [
    "# Declare four types of containers\n",
    "x = [1, 2, 3]\n",
    "y = (1, 2)\n",
    "z = {\"1\": 1}\n",
    "w = {1, 1, 2, 3}\n",
    "\n",
    "print(\"Length of x:\", len(x))\n",
    "print(\"Length of y:\", len(y))\n",
    "print(\"Length of z:\", len(z))\n",
    "print(\"Length of w:\", len(w))"
   ]
  },
  {
   "cell_type": "markdown",
   "metadata": {},
   "source": [
    "### Sort"
   ]
  },
  {
   "cell_type": "code",
   "execution_count": null,
   "metadata": {},
   "outputs": [],
   "source": [
    "# Declare containers\n",
    "x = [1, 3, 2]\n",
    "y = (5, 2, 3)\n",
    "z = {\"1\": 1, \"45\": 6, \"22\": 7}\n",
    "w = {2, 2, 1, 4, 5}\n",
    "\n",
    "print(sorted(x))\n",
    "print(sorted(y, reverse=True))\n",
    "print(sorted(z))\n",
    "print(sorted(w))"
   ]
  },
  {
   "cell_type": "markdown",
   "metadata": {},
   "source": [
    "## Loop"
   ]
  },
  {
   "cell_type": "markdown",
   "metadata": {},
   "source": [
    "### For loop"
   ]
  },
  {
   "cell_type": "code",
   "execution_count": 24,
   "metadata": {},
   "outputs": [
    {
     "name": "stdout",
     "output_type": "stream",
     "text": [
      "Hello\n",
      "Python\n",
      "I\n",
      "Like\n",
      "Programming\n"
     ]
    }
   ],
   "source": [
    "# Create a sequence called words\n",
    "words = [\"Hello\", \"Python\", \"I\", \"Like\", \"Programming\"]\n",
    "\n",
    "# Using word to reference all the \n",
    "#  elements in side the sequence\n",
    "for word in words:\n",
    "    print(word)"
   ]
  },
  {
   "cell_type": "code",
   "execution_count": 26,
   "metadata": {},
   "outputs": [
    {
     "name": "stdout",
     "output_type": "stream",
     "text": [
      "[0, 1, 2, 3, 4]\n",
      "[1, 2, 3, 4]\n",
      "[1, 3]\n"
     ]
    }
   ],
   "source": [
    "# Range can create an integer sequence\n",
    "print(list(range(5))) # 0 ~ 4\n",
    "print(list(range(1, 5))) # 1 ~ 4\n",
    "print(list(range(1, 5, 2))) # 1, 3"
   ]
  },
  {
   "cell_type": "code",
   "execution_count": 30,
   "metadata": {},
   "outputs": [
    {
     "name": "stdout",
     "output_type": "stream",
     "text": [
      "6\n"
     ]
    }
   ],
   "source": [
    "# Variable to store the accumulation\n",
    "res = 0\n",
    "\n",
    "# Count the accumulation from 1 to 3\n",
    "for num in range(4):\n",
    "    res += num\n",
    "    \n",
    "print(res)"
   ]
  },
  {
   "cell_type": "markdown",
   "metadata": {},
   "source": [
    "### While loop"
   ]
  },
  {
   "cell_type": "code",
   "execution_count": 31,
   "metadata": {},
   "outputs": [
    {
     "name": "stdout",
     "output_type": "stream",
     "text": [
      "5\n",
      "4\n",
      "3\n",
      "2\n",
      "1\n"
     ]
    }
   ],
   "source": [
    "# Counter\n",
    "num = 5\n",
    "\n",
    "# Count from 5 to 1\n",
    "while num > 0:\n",
    "    print(num)\n",
    "    num -= 1"
   ]
  },
  {
   "cell_type": "markdown",
   "metadata": {},
   "source": [
    "### Continue"
   ]
  },
  {
   "cell_type": "code",
   "execution_count": 33,
   "metadata": {},
   "outputs": [
    {
     "name": "stdout",
     "output_type": "stream",
     "text": [
      "5\n",
      "4\n",
      "3\n",
      "1\n"
     ]
    }
   ],
   "source": [
    "# Counter\n",
    "num = 5\n",
    "\n",
    "# Count from 5 to 1\n",
    "#  and pass 2\n",
    "while num > 0:\n",
    "    if (num == 2):\n",
    "        num -= 1\n",
    "        continue\n",
    "    \n",
    "    print(num)\n",
    "    num -= 1"
   ]
  },
  {
   "cell_type": "markdown",
   "metadata": {},
   "source": [
    "### Break"
   ]
  },
  {
   "cell_type": "code",
   "execution_count": 34,
   "metadata": {},
   "outputs": [
    {
     "name": "stdout",
     "output_type": "stream",
     "text": [
      "3\n",
      "1\n"
     ]
    }
   ],
   "source": [
    "# List for the number\n",
    "x = [3, 1, 5, 1, 9]\n",
    "\n",
    "# Print the number\n",
    "#  until we find 5\n",
    "for num in x:\n",
    "    if num == 5:\n",
    "        break\n",
    "        \n",
    "    print(num)"
   ]
  },
  {
   "cell_type": "markdown",
   "metadata": {},
   "source": [
    "## Function"
   ]
  },
  {
   "cell_type": "code",
   "execution_count": 1,
   "metadata": {},
   "outputs": [
    {
     "name": "stdout",
     "output_type": "stream",
     "text": [
      "8.0\n",
      "9.0\n",
      "10.0\n"
     ]
    }
   ],
   "source": [
    "# Define the function\n",
    "def counting(num):\n",
    "    return num ** 2 / num + 1 * 5\n",
    "\n",
    "# Using for loop to call the function\n",
    "#  multiple times\n",
    "for i in range(3, 6):\n",
    "    print(counting(i))"
   ]
  },
  {
   "cell_type": "code",
   "execution_count": 2,
   "metadata": {},
   "outputs": [
    {
     "name": "stdout",
     "output_type": "stream",
     "text": [
      "Hello\n"
     ]
    }
   ],
   "source": [
    "# Define a function called hello\n",
    "def hello():\n",
    "    print(\"Hello\")\n",
    "    \n",
    "# Call the function\n",
    "hello()"
   ]
  },
  {
   "cell_type": "code",
   "execution_count": 3,
   "metadata": {},
   "outputs": [
    {
     "name": "stdout",
     "output_type": "stream",
     "text": [
      "Hello Justin\n"
     ]
    }
   ],
   "source": [
    "# Input the parameter\n",
    "def hello_2(name):\n",
    "    print(\"Hello\", name)\n",
    "\n",
    "# Call the function\n",
    "hello_2(\"Justin\")"
   ]
  },
  {
   "cell_type": "code",
   "execution_count": 6,
   "metadata": {},
   "outputs": [
    {
     "name": "stdout",
     "output_type": "stream",
     "text": [
      "13\n"
     ]
    }
   ],
   "source": [
    "# Get the return value\n",
    "def compute(number_1, number_2):\n",
    "    return number_1 ** 2 + number_2 ** 2\n",
    "\n",
    "# Get and print the \n",
    "#  return value\n",
    "x = compute(2, 3)\n",
    "print(x)"
   ]
  },
  {
   "cell_type": "markdown",
   "metadata": {},
   "source": [
    "### Exercise 4\n",
    "> Design a function that can return the factorial of the input number"
   ]
  },
  {
   "cell_type": "code",
   "execution_count": 7,
   "metadata": {},
   "outputs": [],
   "source": [
    "# Write your code in this block"
   ]
  },
  {
   "cell_type": "code",
   "execution_count": 8,
   "metadata": {},
   "outputs": [
    {
     "name": "stdout",
     "output_type": "stream",
     "text": [
      "120\n"
     ]
    }
   ],
   "source": [
    "################\n",
    "#   Answer     #\n",
    "################\n",
    "\n",
    "def factorial(num):\n",
    "    # Init the return value\n",
    "    res = 1\n",
    "    \n",
    "    # Accumualate the value\n",
    "    for i in range(1, num+1):\n",
    "        res *= i\n",
    "        \n",
    "    return res\n",
    "\n",
    "print(factorial(5))"
   ]
  },
  {
   "cell_type": "markdown",
   "metadata": {},
   "source": [
    "## Class"
   ]
  },
  {
   "cell_type": "code",
   "execution_count": 3,
   "metadata": {},
   "outputs": [
    {
     "name": "stdout",
     "output_type": "stream",
     "text": [
      "7\n",
      "4\n",
      "7\n"
     ]
    }
   ],
   "source": [
    "# Define a class\n",
    "class Number:\n",
    "    x = 7\n",
    "    \n",
    "# Create an Number instance\n",
    "my_number = Number()\n",
    "print(my_number.x)\n",
    "\n",
    "# Reassigned the value of x\n",
    "my_number.x = 4\n",
    "\n",
    "# Print the properties of instance\n",
    "print(my_number.x)\n",
    "# Print the class properties\n",
    "print(Number.x)"
   ]
  },
  {
   "cell_type": "code",
   "execution_count": 4,
   "metadata": {},
   "outputs": [
    {
     "name": "stdout",
     "output_type": "stream",
     "text": [
      "Hello!\n"
     ]
    }
   ],
   "source": [
    "# Define a class with __init__ method\n",
    "class Say:\n",
    "    def __init__(self):\n",
    "        print(\"Hello!\")\n",
    "\n",
    "# Create an instance\n",
    "my_say = Say()"
   ]
  },
  {
   "cell_type": "code",
   "execution_count": 9,
   "metadata": {},
   "outputs": [
    {
     "name": "stdout",
     "output_type": "stream",
     "text": [
      "The name of the dog is Justin\n",
      "The name of the dog is Jason\n",
      "yello white\n"
     ]
    }
   ],
   "source": [
    "# Show the usage of self\n",
    "class Dog:\n",
    "    def __init__(self, name, color):\n",
    "        # Properties of each instance\n",
    "        self.name = name\n",
    "        self.color = color\n",
    "        \n",
    "        # Use self. to access the properties\n",
    "        print(\"The name of the dog is\", self.name)\n",
    "        \n",
    "# Create different instances\n",
    "justin = Dog(\"Justin\", \"yello\")\n",
    "jason = Dog(\"Jason\", \"white\")\n",
    "\n",
    "# Access the properties\n",
    "print(justin.color, jason.color)"
   ]
  },
  {
   "cell_type": "code",
   "execution_count": 11,
   "metadata": {},
   "outputs": [
    {
     "name": "stdout",
     "output_type": "stream",
     "text": [
      "The popularity of Zubat is 100\n",
      "The popularity of Raboot is 540\n"
     ]
    }
   ],
   "source": [
    "# Class define the properties\n",
    "#  and method\n",
    "class Pokemon:\n",
    "    def __init__(self, name, attack, hp):\n",
    "        self.name = name\n",
    "        self.attack = attack\n",
    "        self.hp = hp\n",
    "    \n",
    "    def popularity(self):\n",
    "        popularity = self.attack * self.hp\n",
    "        print(\"The popularity of\", self.name, \"is\", popularity)\n",
    "        \n",
    "\n",
    "# Create two instance\n",
    "zubat = Pokemon(\"Zubat\", 2, 50)\n",
    "raboot = Pokemon(\"Raboot\", 6, 90)\n",
    "\n",
    "# Call the class method\n",
    "zubat.popularity()\n",
    "raboot.popularity()"
   ]
  }
 ],
 "metadata": {
  "kernelspec": {
   "display_name": "Python 3",
   "language": "python",
   "name": "python3"
  },
  "language_info": {
   "codemirror_mode": {
    "name": "ipython",
    "version": 3
   },
   "file_extension": ".py",
   "mimetype": "text/x-python",
   "name": "python",
   "nbconvert_exporter": "python",
   "pygments_lexer": "ipython3",
   "version": "3.7.6"
  }
 },
 "nbformat": 4,
 "nbformat_minor": 4
}
